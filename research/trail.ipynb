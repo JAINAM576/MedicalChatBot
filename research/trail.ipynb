{
 "cells": [
  {
   "cell_type": "markdown",
   "metadata": {},
   "source": [
    "tech :\n",
    "- langchain\n",
    "- github\n",
    "- pincone(vector dbs)\n",
    "- llm (groq, gemini, mistreal)\n",
    "- python (3.10)\n",
    "- flask"
   ]
  },
  {
   "cell_type": "markdown",
   "metadata": {},
   "source": [
    "GOING TO ROOT DIRECTORY OF PROJECT"
   ]
  },
  {
   "cell_type": "code",
   "execution_count": 7,
   "metadata": {},
   "outputs": [
    {
     "name": "stdout",
     "output_type": "stream",
     "text": [
      "WORKING \n"
     ]
    }
   ],
   "source": [
    "print(\"WORKING \")"
   ]
  },
  {
   "cell_type": "code",
   "execution_count": 5,
   "metadata": {},
   "outputs": [
    {
     "data": {
      "text/plain": [
       "'c:\\\\Users\\\\HP\\\\Documents\\\\Q&A_MEDICAL_BOT\\\\MedicalChatBot\\\\research'"
      ]
     },
     "execution_count": 5,
     "metadata": {},
     "output_type": "execute_result"
    }
   ],
   "source": [
    "%pwd"
   ]
  },
  {
   "cell_type": "code",
   "execution_count": 6,
   "metadata": {},
   "outputs": [],
   "source": [
    "import os \n",
    "os.chdir(\"../\")"
   ]
  },
  {
   "cell_type": "code",
   "execution_count": 4,
   "metadata": {},
   "outputs": [
    {
     "data": {
      "text/plain": [
       "'c:\\\\Users\\\\HP\\\\Documents\\\\Q&A_MEDICAL_BOT\\\\MedicalChatBot'"
      ]
     },
     "execution_count": 4,
     "metadata": {},
     "output_type": "execute_result"
    }
   ],
   "source": [
    "%pwd"
   ]
  },
  {
   "cell_type": "markdown",
   "metadata": {},
   "source": [
    "# STARTING WITH IMPORTANT FUNCTIONS"
   ]
  },
  {
   "cell_type": "code",
   "execution_count": 5,
   "metadata": {},
   "outputs": [],
   "source": [
    "pdf_path=\"Data/Gale Encyclopedia of Medicine Vol. 1 (A-B).pdf\"\n",
    "dir_path=\"Data/\""
   ]
  },
  {
   "cell_type": "code",
   "execution_count": 6,
   "metadata": {},
   "outputs": [],
   "source": [
    "\n",
    "\n",
    "from langchain.document_loaders import PyPDFLoader,DirectoryLoader\n",
    "from langchain.text_splitter import RecursiveCharacterTextSplitter"
   ]
  },
  {
   "cell_type": "code",
   "execution_count": 7,
   "metadata": {},
   "outputs": [],
   "source": [
    "# load and extract document(tex) from pdf\n",
    "\n",
    "def load_extract_pdf(path):\n",
    "    loader=DirectoryLoader(path,glob=\"*.pdf\",loader_cls=PyPDFLoader)\n",
    "    document=loader.load()\n",
    "    return document"
   ]
  },
  {
   "cell_type": "code",
   "execution_count": 8,
   "metadata": {},
   "outputs": [],
   "source": [
    "extracted_data=load_extract_pdf(dir_path)"
   ]
  },
  {
   "cell_type": "code",
   "execution_count": 57,
   "metadata": {},
   "outputs": [
    {
     "data": {
      "text/plain": [
       "637"
      ]
     },
     "execution_count": 57,
     "metadata": {},
     "output_type": "execute_result"
    }
   ],
   "source": [
    "len(extracted_data)"
   ]
  },
  {
   "cell_type": "markdown",
   "metadata": {},
   "source": [
    "# ANALYSE DATA"
   ]
  },
  {
   "cell_type": "code",
   "execution_count": null,
   "metadata": {},
   "outputs": [],
   "source": [
    "%pip install pandas\n",
    "import pandas as pd\n"
   ]
  },
  {
   "cell_type": "code",
   "execution_count": 93,
   "metadata": {},
   "outputs": [],
   "source": [
    "def analyse_pages(extracted_data):\n",
    "    data={\"character_count\":[],\"words_len\":[],\"sentances_len\":[],\"token_count\":[]}\n",
    "    for i in extracted_data:\n",
    "        page_data=i.page_content\n",
    "    \n",
    "        data[\"character_count\"].append(len(page_data))\n",
    "        data[\"words_len\"].append(len(page_data.split(\" \")))\n",
    "        data[\"sentances_len\"].append(len(page_data.split(\".\")))\n",
    "        data[\"token_count\"].append(len(page_data)/4)\n",
    "\n",
    "    return data\n",
    "        \n",
    "        "
   ]
  },
  {
   "cell_type": "code",
   "execution_count": 94,
   "metadata": {},
   "outputs": [
    {
     "data": {
      "text/html": [
       "<div>\n",
       "<style scoped>\n",
       "    .dataframe tbody tr th:only-of-type {\n",
       "        vertical-align: middle;\n",
       "    }\n",
       "\n",
       "    .dataframe tbody tr th {\n",
       "        vertical-align: top;\n",
       "    }\n",
       "\n",
       "    .dataframe thead th {\n",
       "        text-align: right;\n",
       "    }\n",
       "</style>\n",
       "<table border=\"1\" class=\"dataframe\">\n",
       "  <thead>\n",
       "    <tr style=\"text-align: right;\">\n",
       "      <th></th>\n",
       "      <th>character_count</th>\n",
       "      <th>words_len</th>\n",
       "      <th>sentances_len</th>\n",
       "      <th>token_count</th>\n",
       "    </tr>\n",
       "  </thead>\n",
       "  <tbody>\n",
       "    <tr>\n",
       "      <th>count</th>\n",
       "      <td>637.000000</td>\n",
       "      <td>637.000000</td>\n",
       "      <td>637.000000</td>\n",
       "      <td>637.000000</td>\n",
       "    </tr>\n",
       "    <tr>\n",
       "      <th>mean</th>\n",
       "      <td>4128.039246</td>\n",
       "      <td>560.189953</td>\n",
       "      <td>46.400314</td>\n",
       "      <td>1032.009812</td>\n",
       "    </tr>\n",
       "    <tr>\n",
       "      <th>std</th>\n",
       "      <td>786.992492</td>\n",
       "      <td>118.289274</td>\n",
       "      <td>23.092748</td>\n",
       "      <td>196.748123</td>\n",
       "    </tr>\n",
       "    <tr>\n",
       "      <th>min</th>\n",
       "      <td>0.000000</td>\n",
       "      <td>1.000000</td>\n",
       "      <td>1.000000</td>\n",
       "      <td>0.000000</td>\n",
       "    </tr>\n",
       "    <tr>\n",
       "      <th>25%</th>\n",
       "      <td>3812.000000</td>\n",
       "      <td>502.000000</td>\n",
       "      <td>36.000000</td>\n",
       "      <td>953.000000</td>\n",
       "    </tr>\n",
       "    <tr>\n",
       "      <th>50%</th>\n",
       "      <td>4188.000000</td>\n",
       "      <td>563.000000</td>\n",
       "      <td>44.000000</td>\n",
       "      <td>1047.000000</td>\n",
       "    </tr>\n",
       "    <tr>\n",
       "      <th>75%</th>\n",
       "      <td>4585.000000</td>\n",
       "      <td>629.000000</td>\n",
       "      <td>55.000000</td>\n",
       "      <td>1146.250000</td>\n",
       "    </tr>\n",
       "    <tr>\n",
       "      <th>max</th>\n",
       "      <td>5929.000000</td>\n",
       "      <td>885.000000</td>\n",
       "      <td>443.000000</td>\n",
       "      <td>1482.250000</td>\n",
       "    </tr>\n",
       "  </tbody>\n",
       "</table>\n",
       "</div>"
      ],
      "text/plain": [
       "       character_count   words_len  sentances_len  token_count\n",
       "count       637.000000  637.000000     637.000000   637.000000\n",
       "mean       4128.039246  560.189953      46.400314  1032.009812\n",
       "std         786.992492  118.289274      23.092748   196.748123\n",
       "min           0.000000    1.000000       1.000000     0.000000\n",
       "25%        3812.000000  502.000000      36.000000   953.000000\n",
       "50%        4188.000000  563.000000      44.000000  1047.000000\n",
       "75%        4585.000000  629.000000      55.000000  1146.250000\n",
       "max        5929.000000  885.000000     443.000000  1482.250000"
      ]
     },
     "execution_count": 94,
     "metadata": {},
     "output_type": "execute_result"
    }
   ],
   "source": [
    "df=pd.DataFrame(analyse_pages(extracted_data))\n",
    "df.describe()"
   ]
  },
  {
   "cell_type": "code",
   "execution_count": 96,
   "metadata": {},
   "outputs": [],
   "source": [
    "# convert documents into chunks ! chunk_size=500 and chunk_overlay=30\n",
    "\n",
    "def document_to_chunks(extracted_data):\n",
    "    text_splitter=RecursiveCharacterTextSplitter(chunk_size=500,chunk_overlap=30)\n",
    "    chunks=text_splitter.split_documents(extracted_data)\n",
    "    return chunks"
   ]
  },
  {
   "cell_type": "code",
   "execution_count": 97,
   "metadata": {},
   "outputs": [],
   "source": [
    "chunks=document_to_chunks(extracted_data)"
   ]
  },
  {
   "cell_type": "code",
   "execution_count": null,
   "metadata": {},
   "outputs": [],
   "source": [
    "for i,chunk in enumerate(chunks[:5]):\n",
    "    print(f\"{i} th chunk {chunk}\")"
   ]
  },
  {
   "cell_type": "code",
   "execution_count": 24,
   "metadata": {},
   "outputs": [
    {
     "name": "stdout",
     "output_type": "stream",
     "text": [
      "length of chunks is : 5876\n"
     ]
    }
   ],
   "source": [
    "print(f\"length of chunks is : {len(chunks)}\")"
   ]
  },
  {
   "cell_type": "code",
   "execution_count": 99,
   "metadata": {},
   "outputs": [
    {
     "data": {
      "text/html": [
       "<div>\n",
       "<style scoped>\n",
       "    .dataframe tbody tr th:only-of-type {\n",
       "        vertical-align: middle;\n",
       "    }\n",
       "\n",
       "    .dataframe tbody tr th {\n",
       "        vertical-align: top;\n",
       "    }\n",
       "\n",
       "    .dataframe thead th {\n",
       "        text-align: right;\n",
       "    }\n",
       "</style>\n",
       "<table border=\"1\" class=\"dataframe\">\n",
       "  <thead>\n",
       "    <tr style=\"text-align: right;\">\n",
       "      <th></th>\n",
       "      <th>character_count</th>\n",
       "      <th>words_len</th>\n",
       "      <th>sentances_len</th>\n",
       "      <th>token_count</th>\n",
       "    </tr>\n",
       "  </thead>\n",
       "  <tbody>\n",
       "    <tr>\n",
       "      <th>count</th>\n",
       "      <td>5876.000000</td>\n",
       "      <td>5876.000000</td>\n",
       "      <td>5876.000000</td>\n",
       "      <td>5876.000000</td>\n",
       "    </tr>\n",
       "    <tr>\n",
       "      <th>mean</th>\n",
       "      <td>448.913206</td>\n",
       "      <td>61.772634</td>\n",
       "      <td>5.983492</td>\n",
       "      <td>112.228302</td>\n",
       "    </tr>\n",
       "    <tr>\n",
       "      <th>std</th>\n",
       "      <td>83.738848</td>\n",
       "      <td>12.420136</td>\n",
       "      <td>5.907419</td>\n",
       "      <td>20.934712</td>\n",
       "    </tr>\n",
       "    <tr>\n",
       "      <th>min</th>\n",
       "      <td>38.000000</td>\n",
       "      <td>2.000000</td>\n",
       "      <td>1.000000</td>\n",
       "      <td>9.500000</td>\n",
       "    </tr>\n",
       "    <tr>\n",
       "      <th>25%</th>\n",
       "      <td>454.000000</td>\n",
       "      <td>58.000000</td>\n",
       "      <td>4.000000</td>\n",
       "      <td>113.500000</td>\n",
       "    </tr>\n",
       "    <tr>\n",
       "      <th>50%</th>\n",
       "      <td>471.000000</td>\n",
       "      <td>64.000000</td>\n",
       "      <td>5.000000</td>\n",
       "      <td>117.750000</td>\n",
       "    </tr>\n",
       "    <tr>\n",
       "      <th>75%</th>\n",
       "      <td>487.000000</td>\n",
       "      <td>69.000000</td>\n",
       "      <td>6.000000</td>\n",
       "      <td>121.750000</td>\n",
       "    </tr>\n",
       "    <tr>\n",
       "      <th>max</th>\n",
       "      <td>500.000000</td>\n",
       "      <td>88.000000</td>\n",
       "      <td>315.000000</td>\n",
       "      <td>125.000000</td>\n",
       "    </tr>\n",
       "  </tbody>\n",
       "</table>\n",
       "</div>"
      ],
      "text/plain": [
       "       character_count    words_len  sentances_len  token_count\n",
       "count      5876.000000  5876.000000    5876.000000  5876.000000\n",
       "mean        448.913206    61.772634       5.983492   112.228302\n",
       "std          83.738848    12.420136       5.907419    20.934712\n",
       "min          38.000000     2.000000       1.000000     9.500000\n",
       "25%         454.000000    58.000000       4.000000   113.500000\n",
       "50%         471.000000    64.000000       5.000000   117.750000\n",
       "75%         487.000000    69.000000       6.000000   121.750000\n",
       "max         500.000000    88.000000     315.000000   125.000000"
      ]
     },
     "execution_count": 99,
     "metadata": {},
     "output_type": "execute_result"
    }
   ],
   "source": [
    "df=pd.DataFrame(analyse_pages(chunks))\n",
    "df.describe()"
   ]
  },
  {
   "cell_type": "markdown",
   "metadata": {},
   "source": [
    "# MAKING EMBEDDINGS "
   ]
  },
  {
   "cell_type": "code",
   "execution_count": 10,
   "metadata": {},
   "outputs": [],
   "source": [
    "from langchain.embeddings import HuggingFaceBgeEmbeddings"
   ]
  },
  {
   "cell_type": "markdown",
   "metadata": {},
   "source": [
    "## **🔹 Model Specifications:**\n",
    "| Specification  | Details  |\n",
    "|---------------|----------|\n",
    "| **Model Name** | `all-MiniLM-L6-v2` |\n",
    "| **Architecture** | MiniLM-L6 (6-layer Transformer) |\n",
    "| **Embedding Size** | 384-dimensional vector |\n",
    "| **Training Data** | Diverse text corpora (including Wikipedia, news, question-answer pairs) |\n",
    "| **Max Token Length** | 256 tokens |\n",
    "| **Performance** | Small & fast, optimized for efficiency |\n",
    "| **Use Case** | Text embeddings for semantic search, similarity, retrieval |\n",
    "| **Framework** | Built using **Hugging Face Transformers** & **Sentence-Transformers** |\n",
    "\n"
   ]
  },
  {
   "cell_type": "code",
   "execution_count": 11,
   "metadata": {},
   "outputs": [],
   "source": [
    "def download_huggingface_embedding():\n",
    "    embeddings=HuggingFaceBgeEmbeddings(model_name=\"sentence-transformers/all-MiniLM-L6-v2\")\n",
    "    return embeddings"
   ]
  },
  {
   "cell_type": "markdown",
   "metadata": {},
   "source": [
    "## **🔹 Other Models Like This**\n",
    "There are other **sentence embedding models** similar to `all-MiniLM-L6-v2`, with different trade-offs in terms of **accuracy, speed, and resource consumption**.\n",
    "\n",
    "| Model | Dim | Speed | Accuracy | Use Case |\n",
    "|-------|-----|-------|----------|----------|\n",
    "| **all-MiniLM-L6-v2** | 384 | 🚀 Fast | ⭐⭐⭐ | General-purpose, low-resource apps |\n",
    "| **all-MiniLM-L12-v2** | 384 | ⏳ Slower | ⭐⭐⭐⭐ | Higher accuracy, still lightweight |\n",
    "| **all-MPNet-base-v2** | 768 | 🐌 Slow | ⭐⭐⭐⭐⭐ | Best for accuracy, large models |\n",
    "| **multi-qa-MiniLM-L6-cos-v1** | 384 | 🚀 Fast | ⭐⭐⭐ | Optimized for **Q&A retrieval** |\n",
    "| **e5-large-v2** | 1024 | 🐌 Slow | ⭐⭐⭐⭐⭐ | High-accuracy embeddings, better for **retrieval** |\n",
    "| **bge-m3** | 1024 | 🐌 Slow | ⭐⭐⭐⭐⭐ | State-of-the-art, better for **search & RAG** |\n",
    "\n",
    "🔹 **MiniLM models** → Best for **efficiency and small-scale applications**.  \n",
    "🔹 **MPNet / E5 / BGE models** → Best for **higher accuracy & retrieval tasks** but require more resources.\n"
   ]
  },
  {
   "cell_type": "code",
   "execution_count": 12,
   "metadata": {},
   "outputs": [
    {
     "name": "stderr",
     "output_type": "stream",
     "text": [
      "C:\\Users\\HP\\AppData\\Local\\Temp\\ipykernel_13116\\2672646417.py:2: LangChainDeprecationWarning: The class `HuggingFaceBgeEmbeddings` was deprecated in LangChain 0.2.2 and will be removed in 1.0. An updated version of the class exists in the :class:`~langchain-huggingface package and should be used instead. To use it run `pip install -U :class:`~langchain-huggingface` and import as `from :class:`~langchain_huggingface import HuggingFaceEmbeddings``.\n",
      "  embeddings=HuggingFaceBgeEmbeddings(model_name=\"sentence-transformers/all-MiniLM-L6-v2\")\n",
      "c:\\Users\\HP\\anaconda3\\envs\\medibot1\\lib\\site-packages\\tqdm\\auto.py:21: TqdmWarning: IProgress not found. Please update jupyter and ipywidgets. See https://ipywidgets.readthedocs.io/en/stable/user_install.html\n",
      "  from .autonotebook import tqdm as notebook_tqdm\n"
     ]
    }
   ],
   "source": [
    "embedding_model=download_huggingface_embedding()"
   ]
  },
  {
   "cell_type": "code",
   "execution_count": 13,
   "metadata": {},
   "outputs": [
    {
     "name": "stdout",
     "output_type": "stream",
     "text": [
      "length of the embedding vetor 384\n"
     ]
    }
   ],
   "source": [
    "query_embed=embedding_model.embed_query(\"Hello world\")\n",
    "print(f'length of the embedding vetor {len(query_embed)}')"
   ]
  },
  {
   "cell_type": "markdown",
   "metadata": {},
   "source": [
    "# MAKING PINECONE DATABASE"
   ]
  },
  {
   "cell_type": "code",
   "execution_count": 14,
   "metadata": {},
   "outputs": [
    {
     "data": {
      "text/plain": [
       "True"
      ]
     },
     "execution_count": 14,
     "metadata": {},
     "output_type": "execute_result"
    }
   ],
   "source": [
    "from dotenv import load_dotenv\n",
    "load_dotenv()"
   ]
  },
  {
   "cell_type": "code",
   "execution_count": 15,
   "metadata": {},
   "outputs": [],
   "source": [
    "PINECONE_API_KEY=os.environ.get(\"PINECONE_API_KEY\")"
   ]
  },
  {
   "cell_type": "code",
   "execution_count": 16,
   "metadata": {},
   "outputs": [
    {
     "name": "stderr",
     "output_type": "stream",
     "text": [
      "WARNING: Skipping pinecone-plugin-inference as it is not installed.\n"
     ]
    }
   ],
   "source": [
    "! pip uninstall pinecone-plugin-inference"
   ]
  },
  {
   "cell_type": "code",
   "execution_count": 100,
   "metadata": {},
   "outputs": [],
   "source": [
    "from pinecone.grpc import PineconeGRPC as Pinecone\n",
    "from pinecone import ServerlessSpec\n",
    "\n",
    "pc = Pinecone(api_key=PINECONE_API_KEY)\n",
    "\n",
    "index_name = \"medibotembed\""
   ]
  },
  {
   "cell_type": "code",
   "execution_count": null,
   "metadata": {},
   "outputs": [],
   "source": [
    "\n",
    "pc.create_index(\n",
    "\n",
    "    name=index_name,\n",
    "    dimension=384, \n",
    "    metric=\"cosine\", \n",
    "    spec=ServerlessSpec(\n",
    "        cloud=\"aws\",\n",
    "        region=\"us-east-1\"\n",
    "    ) \n",
    ")"
   ]
  },
  {
   "cell_type": "code",
   "execution_count": 18,
   "metadata": {},
   "outputs": [],
   "source": [
    "os.environ[\"PINECONE_API_KEY\"]=PINECONE_API_KEY"
   ]
  },
  {
   "cell_type": "code",
   "execution_count": null,
   "metadata": {},
   "outputs": [],
   "source": [
    "from langchain_pinecone import PineconeVectorStore\n",
    "\n",
    "docsearch=PineconeVectorStore.from_documents(\n",
    "    index_name=index_name,\n",
    "    documents=chunks,\n",
    "    embedding=embedding_model\n",
    ")\n"
   ]
  },
  {
   "cell_type": "markdown",
   "metadata": {},
   "source": [
    "\n",
    "\n",
    "✅ **What happens in this step?**\n",
    "1. **Embeds the documents** (`chunks`) using the `embedding_model`.\n",
    "2. **Stores the embeddings** in the Pinecone index (`index_name`).\n",
    "3. **Creates a searchable vector database**, enabling similarity-based searches.\n",
    "\n",
    "\n"
   ]
  },
  {
   "cell_type": "markdown",
   "metadata": {},
   "source": []
  },
  {
   "cell_type": "code",
   "execution_count": 19,
   "metadata": {},
   "outputs": [],
   "source": [
    "from langchain_pinecone import PineconeVectorStore\n",
    "\n",
    "docretrival=PineconeVectorStore.from_existing_index(\n",
    "    index_name=index_name,\n",
    "    embedding=embedding_model\n",
    ")\n"
   ]
  },
  {
   "cell_type": "code",
   "execution_count": 20,
   "metadata": {},
   "outputs": [
    {
     "data": {
      "text/plain": [
       "[Document(id='a533e936-3c3a-44d1-abd8-ced0e1f64127', metadata={'creationdate': '2004-12-18T17:00:02-05:00', 'creator': 'PyPDF', 'moddate': '2004-12-18T16:15:31-06:00', 'page': 39.0, 'page_label': '40', 'producer': 'PDFlib+PDI 5.0.0 (SunOS)', 'source': 'Data\\\\Gale Encyclopedia of Medicine Vol. 1 (A-B).pdf', 'total_pages': 637.0}, page_content='GALE ENCYCLOPEDIA OF MEDICINE 226\\nAcne\\nGEM - 0001 to 0432 - A  10/22/03 1:41 PM  Page 26'),\n",
       " Document(id='69294992-466c-4694-a8df-89293bdbb8e0', metadata={'creationdate': '2004-12-18T17:00:02-05:00', 'creator': 'PyPDF', 'moddate': '2004-12-18T16:15:31-06:00', 'page': 38.0, 'page_label': '39', 'producer': 'PDFlib+PDI 5.0.0 (SunOS)', 'source': 'Data\\\\Gale Encyclopedia of Medicine Vol. 1 (A-B).pdf', 'total_pages': 637.0}, page_content='GALE ENCYCLOPEDIA OF MEDICINE 2 25\\nAcne\\nAcne vulgaris affecting a woman’s face. Acne is the general\\nname given to a skin disorder in which the sebaceous\\nglands become inflamed.(Photograph by Biophoto Associ-\\nates, Photo Researchers, Inc. Reproduced by permission.)\\nGEM - 0001 to 0432 - A  10/22/03 1:41 PM  Page 25'),\n",
       " Document(id='6ce28eed-22b9-419c-bda5-71f9f78c7e08', metadata={'creationdate': '2004-12-18T17:00:02-05:00', 'creator': 'PyPDF', 'moddate': '2004-12-18T16:15:31-06:00', 'page': 37.0, 'page_label': '38', 'producer': 'PDFlib+PDI 5.0.0 (SunOS)', 'source': 'Data\\\\Gale Encyclopedia of Medicine Vol. 1 (A-B).pdf', 'total_pages': 637.0}, page_content='Acid reflux see Heartburn\\nAcidosis see Respiratory acidosis; Renal\\ntubular acidosis; Metabolic acidosis\\nAcne\\nDefinition\\nAcne is a common skin disease characterized by\\npimples on the face, chest, and back. It occurs when the\\npores of the skin become clogged with oil, dead skin\\ncells, and bacteria.\\nDescription\\nAcne vulgaris, the medical term for common acne, is\\nthe most common skin disease. It affects nearly 17 million\\npeople in the United States. While acne can arise at any'),\n",
       " Document(id='847b5d1d-ca70-4973-8318-c4b743b88ac0', metadata={'creationdate': '2004-12-18T17:00:02-05:00', 'creator': 'PyPDF', 'moddate': '2004-12-18T16:15:31-06:00', 'page': 40.0, 'page_label': '41', 'producer': 'PDFlib+PDI 5.0.0 (SunOS)', 'source': 'Data\\\\Gale Encyclopedia of Medicine Vol. 1 (A-B).pdf', 'total_pages': 637.0}, page_content='Cliffs, NJ: Prentice Hall, 1995.\\nGoldstein, Sanford M., and Richard B. Odom. “Skin &\\nAppendages: Pustular Disorders.” In Current Medical\\nDiagnosis and Treatment, 1996.35th ed. Ed. Stephen\\nMcPhee, et al. Stamford: Appleton & Lange, 1995.\\nKaptchuk, Ted J., Z’ev Rosenberg, and K’an Herb Co., Inc.\\nK’an Herbals: Formulas by Ted Kaptchuk, O.M.D.San\\nFrancisco: Andrew Miller, 1996.\\nPERIODICALS\\n“Adult Acne.”Harvard Women’s Health Watch(Mar. 1995): 4-\\n5.'),\n",
       " Document(id='86ca7d12-5ecc-41b6-ab48-a27592f263fb', metadata={'creationdate': '2004-12-18T17:00:02-05:00', 'creator': 'PyPDF', 'moddate': '2004-12-18T16:15:31-06:00', 'page': 40.0, 'page_label': '41', 'producer': 'PDFlib+PDI 5.0.0 (SunOS)', 'source': 'Data\\\\Gale Encyclopedia of Medicine Vol. 1 (A-B).pdf', 'total_pages': 637.0}, page_content='5.\\nBergfeld, Wilma F. “The Evaluation and Management of Acne:\\nEconomic Considerations.” Journal of the American\\nAcademy of Dermatology 32 (1995): S52-6.\\nBillings, Laura. “Getting Clear.”Health Magazine, Apr. 1997,\\n48-52.\\nChristiano, Donna. “Acne Treatment Meant for Grown- Ups.”\\nAmerican Health (Oct. 1994): 23-4.\\n“Clearly Better New Treatments Help Adult Acne.”Prevention\\nMagazine, Aug. 1997, 50-51.\\nLeyden, James J. “Therapy For Acne Vulgaris.”New England')]"
      ]
     },
     "execution_count": 20,
     "metadata": {},
     "output_type": "execute_result"
    }
   ],
   "source": [
    "docretrival.similarity_search(\"what is acne?\",k=5)"
   ]
  },
  {
   "cell_type": "code",
   "execution_count": 29,
   "metadata": {},
   "outputs": [
    {
     "data": {
      "text/plain": [
       "[Document(id='a533e936-3c3a-44d1-abd8-ced0e1f64127', metadata={'creationdate': '2004-12-18T17:00:02-05:00', 'creator': 'PyPDF', 'moddate': '2004-12-18T16:15:31-06:00', 'page': 39.0, 'page_label': '40', 'producer': 'PDFlib+PDI 5.0.0 (SunOS)', 'source': 'Data\\\\Gale Encyclopedia of Medicine Vol. 1 (A-B).pdf', 'total_pages': 637.0}, page_content='GALE ENCYCLOPEDIA OF MEDICINE 226\\nAcne\\nGEM - 0001 to 0432 - A  10/22/03 1:41 PM  Page 26'),\n",
       " Document(id='69294992-466c-4694-a8df-89293bdbb8e0', metadata={'creationdate': '2004-12-18T17:00:02-05:00', 'creator': 'PyPDF', 'moddate': '2004-12-18T16:15:31-06:00', 'page': 38.0, 'page_label': '39', 'producer': 'PDFlib+PDI 5.0.0 (SunOS)', 'source': 'Data\\\\Gale Encyclopedia of Medicine Vol. 1 (A-B).pdf', 'total_pages': 637.0}, page_content='GALE ENCYCLOPEDIA OF MEDICINE 2 25\\nAcne\\nAcne vulgaris affecting a woman’s face. Acne is the general\\nname given to a skin disorder in which the sebaceous\\nglands become inflamed.(Photograph by Biophoto Associ-\\nates, Photo Researchers, Inc. Reproduced by permission.)\\nGEM - 0001 to 0432 - A  10/22/03 1:41 PM  Page 25'),\n",
       " Document(id='6ce28eed-22b9-419c-bda5-71f9f78c7e08', metadata={'creationdate': '2004-12-18T17:00:02-05:00', 'creator': 'PyPDF', 'moddate': '2004-12-18T16:15:31-06:00', 'page': 37.0, 'page_label': '38', 'producer': 'PDFlib+PDI 5.0.0 (SunOS)', 'source': 'Data\\\\Gale Encyclopedia of Medicine Vol. 1 (A-B).pdf', 'total_pages': 637.0}, page_content='Acid reflux see Heartburn\\nAcidosis see Respiratory acidosis; Renal\\ntubular acidosis; Metabolic acidosis\\nAcne\\nDefinition\\nAcne is a common skin disease characterized by\\npimples on the face, chest, and back. It occurs when the\\npores of the skin become clogged with oil, dead skin\\ncells, and bacteria.\\nDescription\\nAcne vulgaris, the medical term for common acne, is\\nthe most common skin disease. It affects nearly 17 million\\npeople in the United States. While acne can arise at any'),\n",
       " Document(id='847b5d1d-ca70-4973-8318-c4b743b88ac0', metadata={'creationdate': '2004-12-18T17:00:02-05:00', 'creator': 'PyPDF', 'moddate': '2004-12-18T16:15:31-06:00', 'page': 40.0, 'page_label': '41', 'producer': 'PDFlib+PDI 5.0.0 (SunOS)', 'source': 'Data\\\\Gale Encyclopedia of Medicine Vol. 1 (A-B).pdf', 'total_pages': 637.0}, page_content='Cliffs, NJ: Prentice Hall, 1995.\\nGoldstein, Sanford M., and Richard B. Odom. “Skin &\\nAppendages: Pustular Disorders.” In Current Medical\\nDiagnosis and Treatment, 1996.35th ed. Ed. Stephen\\nMcPhee, et al. Stamford: Appleton & Lange, 1995.\\nKaptchuk, Ted J., Z’ev Rosenberg, and K’an Herb Co., Inc.\\nK’an Herbals: Formulas by Ted Kaptchuk, O.M.D.San\\nFrancisco: Andrew Miller, 1996.\\nPERIODICALS\\n“Adult Acne.”Harvard Women’s Health Watch(Mar. 1995): 4-\\n5.'),\n",
       " Document(id='86ca7d12-5ecc-41b6-ab48-a27592f263fb', metadata={'creationdate': '2004-12-18T17:00:02-05:00', 'creator': 'PyPDF', 'moddate': '2004-12-18T16:15:31-06:00', 'page': 40.0, 'page_label': '41', 'producer': 'PDFlib+PDI 5.0.0 (SunOS)', 'source': 'Data\\\\Gale Encyclopedia of Medicine Vol. 1 (A-B).pdf', 'total_pages': 637.0}, page_content='5.\\nBergfeld, Wilma F. “The Evaluation and Management of Acne:\\nEconomic Considerations.” Journal of the American\\nAcademy of Dermatology 32 (1995): S52-6.\\nBillings, Laura. “Getting Clear.”Health Magazine, Apr. 1997,\\n48-52.\\nChristiano, Donna. “Acne Treatment Meant for Grown- Ups.”\\nAmerican Health (Oct. 1994): 23-4.\\n“Clearly Better New Treatments Help Adult Acne.”Prevention\\nMagazine, Aug. 1997, 50-51.\\nLeyden, James J. “Therapy For Acne Vulgaris.”New England')]"
      ]
     },
     "execution_count": 29,
     "metadata": {},
     "output_type": "execute_result"
    }
   ],
   "source": [
    "reteriver=docretrival.as_retriever(search_type=\"similarity\",search_kwargs={\"k\":5})\n",
    "reteriver.invoke(\"what is acne?\")"
   ]
  },
  {
   "cell_type": "code",
   "execution_count": null,
   "metadata": {},
   "outputs": [
    {
     "data": {
      "text/plain": [
       "AIMessage(content=\"The coder toiled, in screen's pale light,\\nWith APIs a-scattered, day and night.\\nA thousand calls, a million lines,\\nTo weave a web, of complex designs.\\nHe dreamed of chains, not forged of steel,\\nBut links of thought, that would reveal\\nThe secrets held in data's store,\\nAnd answer questions, evermore.\\n\\nThen from the depths, a whisper came,\\nA framework born, LangChain by name.\\nIt promised ease, a simpler way,\\nTo build the chains, and make them play.\\nNo more the toil, the endless grind,\\nTo link each piece, and leave behind\\nThe tangled mess, the cryptic code,\\nLangChain's embrace, a lighter load.\\n\\nWith LLMs grand, and agents keen,\\nIt built the bridges, in between.\\nFrom prompt to query, swift and true,\\nThe data flowed, the answers grew.\\nThe coder smiled, his work complete,\\nA chain of thought, both strong and neat.\\nHe whispered thanks, with grateful heart,\\nFor LangChain's magic, a brand new start.\\n\\nBut whispers turned to shouts of glee,\\nAs others joined the company.\\nFrom Python scripts to JavaScript's grace,\\nLangChain extended, time and space.\\nWith tools and templates, rich and vast,\\nThe chains grew stronger, built to last.\\nA vibrant community, taking hold,\\nA story of innovation, yet untold.\\n\\nSo raise a glass, to Harrison Chase,\\nWho forged the links, with skill and grace.\\nLangChain's power, now we see,\\nUnlocking knowledge, setting it free.\\nThe chains extend, the future bright,\\nWith AI's dawn, a guiding light.\\nSo code with joy, and build with might,\\nWith LangChain's aid, day and night.\", additional_kwargs={}, response_metadata={'prompt_feedback': {'block_reason': 0, 'safety_ratings': []}, 'finish_reason': 'STOP', 'safety_ratings': []}, id='run-29ff45b4-f5fc-4619-92ca-076af7d77d46-0', usage_metadata={'input_tokens': 7, 'output_tokens': 396, 'total_tokens': 403, 'input_token_details': {'cache_read': 0}})"
      ]
     },
     "execution_count": 25,
     "metadata": {},
     "output_type": "execute_result"
    }
   ],
   "source": [
    "from langchain_google_genai import ChatGoogleGenerativeAI\n",
    "load_dotenv()\n",
    "llm = ChatGoogleGenerativeAI(model=\"gemini-1.5-pro-002\",temperature=0.6,top_k=40,top_p=0.9)\n",
    "llm.invoke(\"Write me a ballad about LangChain\")"
   ]
  },
  {
   "cell_type": "code",
   "execution_count": 26,
   "metadata": {},
   "outputs": [],
   "source": [
    "from langchain.chains import create_retrieval_chain\n",
    "from langchain.chains.combine_documents import create_stuff_documents_chain\n",
    "from langchain_core.prompts import ChatPromptTemplate"
   ]
  },
  {
   "cell_type": "code",
   "execution_count": 27,
   "metadata": {},
   "outputs": [],
   "source": [
    "system_prompt = \"\"\"\n",
    "You are an intelligent and helpful assistant designed for answering questions.\n",
    "Use the provided retrieved context to generate a clear and concise response.\n",
    "- If the context is relevant, answer in a simple and easy-to-understand manner.\n",
    "- If the context does not contain the answer or is unrelated to the query, respond with: \"I don't know.\"\n",
    "\n",
    "Context:\n",
    "{context}\n",
    "\"\"\"\n",
    "\n",
    "prompt=ChatPromptTemplate.from_messages(\n",
    "    [\n",
    "        (\"system\",system_prompt),\n",
    "        (\"human\",\"{input}\")\n",
    "    ]\n",
    ")"
   ]
  },
  {
   "cell_type": "code",
   "execution_count": 30,
   "metadata": {},
   "outputs": [],
   "source": [
    "q_a_document_chain=create_stuff_documents_chain(llm,prompt)\n",
    "rag_chain=create_retrieval_chain(reteriver,q_a_document_chain)"
   ]
  },
  {
   "cell_type": "markdown",
   "metadata": {},
   "source": [
    "| Step | Process |\n",
    "|------|---------|\n",
    "| **1. `create_stuff_documents_chain`** | Formats retrieved docs and passes them to LLM |\n",
    "| **2. `create_retrieval_chain`** | Retrieves relevant documents and feeds them into `q_a_document_chain` |\n",
    "| **3. Query RAG Chain** | User asks a question → Retrieval → Formatting → LLM generates response |\n",
    "\n",
    "✅ **Use `q_a_document_chain`** when you already have retrieved documents.  \n",
    "✅ **Use `rag_chain`** when you need to retrieve and process documents dynamically.  \n"
   ]
  },
  {
   "cell_type": "code",
   "execution_count": 31,
   "metadata": {},
   "outputs": [
    {
     "name": "stdout",
     "output_type": "stream",
     "text": [
      "Acne is a common skin disease characterized by pimples on the face, chest, and back. It occurs when pores become clogged with oil, dead skin cells, and bacteria.\n"
     ]
    }
   ],
   "source": [
    "response=rag_chain.invoke({\"input\":\"what is acne?\"})\n",
    "print(response[\"answer\"])"
   ]
  },
  {
   "cell_type": "code",
   "execution_count": 52,
   "metadata": {},
   "outputs": [],
   "source": [
    "# making custome chain \n",
    "\n",
    "def custom_rag(query):\n",
    "    retrived_document=reteriver.invoke(query)\n",
    "    print(f\"retrived similiar documents : {retrived_document}\")\n",
    "    context_text = \"\\n\".join([doc.page_content for doc in retrived_document])\n",
    "    formatted_prompt=prompt.format(context=context_text,input=query)\n",
    "    response=llm.invoke(formatted_prompt)\n",
    "    return response.content\n"
   ]
  },
  {
   "cell_type": "code",
   "execution_count": 55,
   "metadata": {},
   "outputs": [
    {
     "name": "stdout",
     "output_type": "stream",
     "text": [
      "retrived similiar documents : [Document(id='d502b057-8bf6-40b1-ac92-2d73138ed75b', metadata={'creationdate': '2004-12-18T17:00:02-05:00', 'creator': 'PyPDF', 'moddate': '2004-12-18T16:15:31-06:00', 'page': 443.0, 'page_label': '444', 'producer': 'PDFlib+PDI 5.0.0 (SunOS)', 'source': 'Data\\\\Gale Encyclopedia of Medicine Vol. 1 (A-B).pdf', 'total_pages': 637.0}, page_content='remedies, and conducts research and documentation of\\nits healing techniques.\\nKey ideas\\nTo understand Ayurvedic treatment, it is necessary to\\nhave an idea how the Ayurvedic system views the body.\\nThe basic life force in the body is prana, which is also\\nfound in the elements and is similar to the Chinese\\nnotion of chi. As Swami Vishnudevananda, a yogi and\\nexpert, put it, “Prana is in the air, but is not the oxygen,\\nnor any of its chemical constituents. It is in food, water,'), Document(id='1e9e4ecc-8cb8-470b-ac52-5cc658f8dea8', metadata={'creationdate': '2004-12-18T17:00:02-05:00', 'creator': 'PyPDF', 'moddate': '2004-12-18T16:15:31-06:00', 'page': 442.0, 'page_label': '443', 'producer': 'PDFlib+PDI 5.0.0 (SunOS)', 'source': 'Data\\\\Gale Encyclopedia of Medicine Vol. 1 (A-B).pdf', 'total_pages': 637.0}, page_content='viving healing system. According to the texts, Ayurveda\\nwas conceived by enlightened wise men as a system of\\nliving harmoniously and maintaining the body so that\\nmental and spiritual awareness could be possible. Med-\\nical historians believe that Ayurvedic ideas were trans-\\nported from ancient India to China and were instrumental\\nin the development of Chinese medicine.\\nGALE ENCYCLOPEDIA OF MEDICINE 2 429\\nAyurvedic medicine\\nDEEPAK CHOPRA (1946– )\\nDeepak Chopra was born in India and studied medi-'), Document(id='d3708c19-23cb-4f5d-9f33-f102cd7257d7', metadata={'creationdate': '2004-12-18T17:00:02-05:00', 'creator': 'PyPDF', 'moddate': '2004-12-18T16:15:31-06:00', 'page': 442.0, 'page_label': '443', 'producer': 'PDFlib+PDI 5.0.0 (SunOS)', 'source': 'Data\\\\Gale Encyclopedia of Medicine Vol. 1 (A-B).pdf', 'total_pages': 637.0}, page_content='ication, he began a search for alternatives and discovered\\none in the teachings of the Maharishi Mahesh Yogi, an\\nIndian spiritualist who had gained a cult following in the\\nlate sixties teaching Transcendental Meditation (TM).\\nChopra began practicing TM fervently and eventually met\\nthe Maharishi. In 1985 Chopra established the Ayurvedic\\nHealth Center for Stress Management and Behavioral\\nMedicine in Lancaster, Massachusetts, where he began'), Document(id='55145625-5db6-4a4e-ab5f-6f83e6e135c8', metadata={'creationdate': '2004-12-18T17:00:02-05:00', 'creator': 'PyPDF', 'moddate': '2004-12-18T16:15:31-06:00', 'page': 382.0, 'page_label': '383', 'producer': 'PDFlib+PDI 5.0.0 (SunOS)', 'source': 'Data\\\\Gale Encyclopedia of Medicine Vol. 1 (A-B).pdf', 'total_pages': 637.0}, page_content='Mundelein, IL 60060-3808. 888-290-0878 or 847-949-\\nKEY TERMS\\nCatharsis —Therapeutic discharge of emotional\\ntension by recalling past events.\\nMandala—A design, usually circular, that appears\\nin religion and art. In Buddhism and Hinduism,\\nthe mandala has religious ritual purposes and\\nserves as a yantra (a geometric emblem or instru-\\nment of contemplation).\\nOrganic illness —A physically, biologically based\\nillness.\\n6064. Fax: 847-566-4580. arttherapy@ntr.net. <http://\\nwww.arttherapy.org>.'), Document(id='a89e1d44-4510-4871-b664-3fe661353b87', metadata={'creationdate': '2004-12-18T17:00:02-05:00', 'creator': 'PyPDF', 'moddate': '2004-12-18T16:15:31-06:00', 'page': 445.0, 'page_label': '446', 'producer': 'PDFlib+PDI 5.0.0 (SunOS)', 'source': 'Data\\\\Gale Encyclopedia of Medicine Vol. 1 (A-B).pdf', 'total_pages': 637.0}, page_content='Resources\\nBOOKS\\nGerson, Scott M.D. Ayurveda: The Ancient Indian Healing Art.\\nBoston: Element Books, 1993.\\nLad, Dr. Vasant. Ayurveda: The Science of Self-Healing.Wis-\\nconsin: Lotus Press, 1984.\\nLad, Dr. Vasant. The Complete Book of Ayurvedic Home Reme-\\ndies. Minneapolis: Three Rivers Press, 1999.\\nTiwari, Maya. Ayurveda: A Life of Balance.Vermont: Healing\\nArts Press, 1995.\\nORGANIZATIONS\\nAmerican Institute of Vedic Studiess. P.O. Box 8357, Santa Fe,\\nNM 87504. (505) 983-9385')]\n",
      "I don't know.\n"
     ]
    }
   ],
   "source": [
    "print(custom_rag(\"who is jainam?\"))"
   ]
  },
  {
   "cell_type": "code",
   "execution_count": null,
   "metadata": {},
   "outputs": [],
   "source": []
  },
  {
   "cell_type": "code",
   "execution_count": null,
   "metadata": {},
   "outputs": [],
   "source": [
    "from langchain_google_genai import ChatGoogleGenerativeAI\n",
    "from dotenv import load_dotenv\n",
    "load_dotenv()\n",
    "llm = ChatGoogleGenerativeAI(model=\"gemini-1.5-pro-002\",temperature=0.6,top_k=40,top_p=0.9)\n",
    "llm.invoke(\"Write me a ballad about LangChain\")"
   ]
  },
  {
   "cell_type": "code",
   "execution_count": null,
   "metadata": {},
   "outputs": [],
   "source": []
  }
 ],
 "metadata": {
  "kernelspec": {
   "display_name": "medibot1",
   "language": "python",
   "name": "python3"
  },
  "language_info": {
   "codemirror_mode": {
    "name": "ipython",
    "version": 3
   },
   "file_extension": ".py",
   "mimetype": "text/x-python",
   "name": "python",
   "nbconvert_exporter": "python",
   "pygments_lexer": "ipython3",
   "version": "3.10.16"
  }
 },
 "nbformat": 4,
 "nbformat_minor": 2
}
